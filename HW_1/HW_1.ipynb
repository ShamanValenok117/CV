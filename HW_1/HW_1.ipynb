{
 "cells": [
  {
   "cell_type": "code",
   "execution_count": 10,
   "metadata": {
    "ExecuteTime": {
     "end_time": "2021-12-28T06:27:33.861909Z",
     "start_time": "2021-12-28T06:27:33.853908Z"
    }
   },
   "outputs": [],
   "source": [
    "%matplotlib inline\n",
    "import cv2\n",
    "import numpy as np\n",
    "import matplotlib.pyplot as plt\n",
    "from sklearn.model_selection import train_test_split\n",
    "from sklearn.linear_model import LogisticRegression\n",
    "from tqdm import tqdm\n",
    "from sklearn.metrics import classification_report\n",
    "\n",
    "import pickle"
   ]
  },
  {
   "cell_type": "markdown",
   "metadata": {},
   "source": [
    "## Загружаем исходные данные"
   ]
  },
  {
   "cell_type": "code",
   "execution_count": 5,
   "metadata": {
    "ExecuteTime": {
     "end_time": "2021-12-28T06:07:54.185862Z",
     "start_time": "2021-12-28T06:07:05.660087Z"
    }
   },
   "outputs": [],
   "source": [
    "train = np.loadtxt('./data/digit/train.csv', delimiter=',', skiprows=1)\n",
    "test = np.loadtxt('./data/digit/test.csv', delimiter=',', skiprows=1)"
   ]
  },
  {
   "cell_type": "code",
   "execution_count": 217,
   "metadata": {
    "ExecuteTime": {
     "end_time": "2021-12-27T14:21:14.923495Z",
     "start_time": "2021-12-27T14:21:14.563474Z"
    }
   },
   "outputs": [],
   "source": [
    "# сохраняем разметку в отдельную переменную\n",
    "train_target = train[:, 0]\n",
    "# приводим размерность к удобному для обаботки виду\n",
    "train_img = np.resize(train[:, 1:], (train.shape[0], 28, 28))\n",
    "test_img = np.resize(test, (test.shape[0], 28, 28))"
   ]
  },
  {
   "cell_type": "code",
   "execution_count": 218,
   "metadata": {
    "ExecuteTime": {
     "end_time": "2021-12-27T14:21:14.931495Z",
     "start_time": "2021-12-27T14:21:14.925495Z"
    }
   },
   "outputs": [
    {
     "data": {
      "text/plain": [
       "((42000, 28, 28), (28000, 28, 28))"
      ]
     },
     "execution_count": 218,
     "metadata": {},
     "output_type": "execute_result"
    }
   ],
   "source": [
    "train_img.shape, test_img.shape"
   ]
  },
  {
   "cell_type": "markdown",
   "metadata": {},
   "source": [
    "## Lets see what is it"
   ]
  },
  {
   "cell_type": "code",
   "execution_count": 5,
   "metadata": {
    "ExecuteTime": {
     "end_time": "2021-12-27T08:35:35.576174Z",
     "start_time": "2021-12-27T08:35:34.796173Z"
    },
    "scrolled": true
   },
   "outputs": [
    {
     "data": {
      "image/png": "[encoded data removed]",
      "text/plain": [
       "<Figure size 864x504 with 5 Axes>"
      ]
     },
     "metadata": {
      "needs_background": "light"
     },
     "output_type": "display_data"
    }
   ],
   "source": [
    "fig = plt.figure(figsize=(12,7))\n",
    "check = np.random.randint(0,len(train_label),size=5)\n",
    "\n",
    "for i,j in enumerate(train_img[check]):\n",
    "    ax = fig.add_subplot(151 + i)\n",
    "    plt.imshow(j, cmap='gray')\n",
    "    plt.title('%d' %train_label[check][i])"
   ]
  },
  {
   "cell_type": "markdown",
   "metadata": {},
   "source": [
    "Не буду показывать что делал с изображеиями, покажу сразу результат:"
   ]
  },
  {
   "cell_type": "markdown",
   "metadata": {},
   "source": [
    "## сделаем функции для обработки изображения"
   ]
  },
  {
   "cell_type": "code",
   "execution_count": 6,
   "metadata": {
    "ExecuteTime": {
     "end_time": "2021-12-27T08:35:35.596174Z",
     "start_time": "2021-12-27T08:35:35.576174Z"
    }
   },
   "outputs": [],
   "source": [
    "def make_sobel(img):\n",
    "    ''' \n",
    "        ВЕРНЕТ ИЗОБРАЖЕНИЕ ОБРАБОТАННОЕ ФИЛЬТРАМИ СОБЕЛЯ\n",
    "            ПО ПОРЯДКУ X, Y, (X+Y)\n",
    "    '''\n",
    "    \n",
    "    sobel_x = np.array([[-1, 0, 1],\n",
    "                        [-2, 0, 2],\n",
    "                        [-1, 0, 1]])\n",
    "\n",
    "    sobel_y = np.array([[-1, -2, -1],\n",
    "                        [ 0,  0,  0],\n",
    "                        [ 1,  2,  1]])\n",
    "\n",
    "    sobel_img_x = cv2.filter2D(img, -1, sobel_x)\n",
    "    sobel_img_x_normed = np.abs(sobel_img_x)/np.max(np.abs(sobel_img_x))\n",
    "\n",
    "    sobel_img_y = cv2.filter2D(img, -1, sobel_y)\n",
    "    sobel_img_y_normed = np.abs(sobel_img_y)/np.max(np.abs(sobel_img_y))\n",
    "   \n",
    "    sobel_img = (sobel_img_x_normed**2 + sobel_img_y_normed**2 )**.5\n",
    "\n",
    "    return sobel_img_x_normed, sobel_img_y_normed, sobel_img"
   ]
  },
  {
   "cell_type": "code",
   "execution_count": 7,
   "metadata": {
    "ExecuteTime": {
     "end_time": "2021-12-27T08:35:35.936175Z",
     "start_time": "2021-12-27T08:35:35.596174Z"
    }
   },
   "outputs": [
    {
     "data": {
      "text/plain": [
       "<matplotlib.image.AxesImage at 0x4adab190>"
      ]
     },
     "execution_count": 7,
     "metadata": {},
     "output_type": "execute_result"
    },
    {
     "data": {
      "image/png": "[encoded data removed]",
      "text/plain": [
       "<Figure size 432x288 with 1 Axes>"
      ]
     },
     "metadata": {
      "needs_background": "light"
     },
     "output_type": "display_data"
    }
   ],
   "source": [
    "# sobel\n",
    "plt.imshow( make_sobel( train_img[check][0])[2] , cmap='gray')"
   ]
  },
  {
   "cell_type": "code",
   "execution_count": 8,
   "metadata": {
    "ExecuteTime": {
     "end_time": "2021-12-27T08:35:35.946175Z",
     "start_time": "2021-12-27T08:35:35.936175Z"
    }
   },
   "outputs": [],
   "source": [
    "def non_max_suppress(img, threshold = 85):\n",
    "    '''\n",
    "        ОТСЕЧЕТ ОТ ИЗОБРАЖЕНИЯ ВСЁ, ЧТО НИЖЕ ПОРОГА (THRESHOLD)\n",
    "            THRESHOLD УКАЗЫВАТЬ В %\n",
    "    '''\n",
    "    \n",
    "    threshold = threshold * (np.max(img)-np.min(img)) /100\n",
    "        \n",
    "    return np.where( img > threshold , img, np.zeros_like(img))\n"
   ]
  },
  {
   "cell_type": "code",
   "execution_count": 9,
   "metadata": {
    "ExecuteTime": {
     "end_time": "2021-12-27T08:35:36.336175Z",
     "start_time": "2021-12-27T08:35:35.946175Z"
    }
   },
   "outputs": [
    {
     "data": {
      "text/plain": [
       "<matplotlib.image.AxesImage at 0x4afa7700>"
      ]
     },
     "execution_count": 9,
     "metadata": {},
     "output_type": "execute_result"
    },
    {
     "data": {
      "image/png": "[encoded data removed]",
      "text/plain": [
       "<Figure size 432x288 with 1 Axes>"
      ]
     },
     "metadata": {
      "needs_background": "light"
     },
     "output_type": "display_data"
    }
   ],
   "source": [
    "a = make_sobel( train_img[check][0])[2]\n",
    "a = non_max_suppress(a, threshold = 85)\n",
    "plt.imshow( a , cmap='gray')"
   ]
  },
  {
   "cell_type": "code",
   "execution_count": 10,
   "metadata": {
    "ExecuteTime": {
     "end_time": "2021-12-27T08:35:36.346175Z",
     "start_time": "2021-12-27T08:35:36.336175Z"
    }
   },
   "outputs": [],
   "source": [
    "def sharpen(img):    \n",
    "#         sharpen_kernel = np.array([\n",
    "#           [0, 0, 0],\n",
    "#           [0, 2, 0],\n",
    "#           [0, 0, 0]\n",
    "#         ])\n",
    "#         return cv2.filter2D( img , -1, sharpen_kernel)\n",
    "    return np.where( img > 0 , np.ones_like(img), np.zeros_like(img)) "
   ]
  },
  {
   "cell_type": "code",
   "execution_count": 11,
   "metadata": {
    "ExecuteTime": {
     "end_time": "2021-12-27T08:35:36.747176Z",
     "start_time": "2021-12-27T08:35:36.346175Z"
    }
   },
   "outputs": [
    {
     "data": {
      "text/plain": [
       "<matplotlib.image.AxesImage at 0x19cbd2e0>"
      ]
     },
     "execution_count": 11,
     "metadata": {},
     "output_type": "execute_result"
    },
    {
     "data": {
      "image/png": "[encoded data removed]",
      "text/plain": [
       "<Figure size 432x288 with 1 Axes>"
      ]
     },
     "metadata": {
      "needs_background": "light"
     },
     "output_type": "display_data"
    }
   ],
   "source": [
    "plt.imshow( sharpen(a) , cmap='gray')"
   ]
  },
  {
   "cell_type": "code",
   "execution_count": 12,
   "metadata": {
    "ExecuteTime": {
     "end_time": "2021-12-27T08:35:37.117176Z",
     "start_time": "2021-12-27T08:35:36.747176Z"
    }
   },
   "outputs": [
    {
     "data": {
      "text/plain": [
       "<matplotlib.image.AxesImage at 0x19d136a0>"
      ]
     },
     "execution_count": 12,
     "metadata": {},
     "output_type": "execute_result"
    },
    {
     "data": {
      "image/png": "[encoded data removed]",
      "text/plain": [
       "<Figure size 432x288 with 1 Axes>"
      ]
     },
     "metadata": {
      "needs_background": "light"
     },
     "output_type": "display_data"
    }
   ],
   "source": [
    "plt.imshow( sharpen(non_max_suppress(  train_img[check][0]) ) , cmap='gray')"
   ]
  },
  {
   "cell_type": "markdown",
   "metadata": {},
   "source": [
    "## Как будет построен процесс:\n",
    "\n",
    "1. из каждого треин экземпляра будет делаться два изображения (см.выше)\n",
    "1. оба изображения конкатенируются по-горизонтали,\n",
    "1. проводится svd и вытягивается трансфомированный вектор.\n",
    "1. обучается весь трансформированный датасет на SVM "
   ]
  },
  {
   "cell_type": "code",
   "execution_count": 14,
   "metadata": {
    "ExecuteTime": {
     "end_time": "2021-12-27T08:54:13.314747Z",
     "start_time": "2021-12-27T08:54:13.304747Z"
    }
   },
   "outputs": [],
   "source": [
    "def img_processing(img):\n",
    "    # sobel\n",
    "    # non_max_suppress\n",
    "    # sharpen\n",
    "    a = make_sobel( img )[2]\n",
    "    a = non_max_suppress(a)\n",
    "    a = sharpen(a)\n",
    "    # non_max_suppress\n",
    "    # sharpen\n",
    "    b = non_max_suppress(img)\n",
    "    b = sharpen(b)\n",
    "    \n",
    "    return np.concatenate((a,b),axis=1)"
   ]
  },
  {
   "cell_type": "code",
   "execution_count": 126,
   "metadata": {
    "ExecuteTime": {
     "end_time": "2021-12-27T11:05:51.282010Z",
     "start_time": "2021-12-27T11:05:50.952010Z"
    }
   },
   "outputs": [
    {
     "data": {
      "text/plain": [
       "<matplotlib.image.AxesImage at 0x1ff00a30>"
      ]
     },
     "execution_count": 126,
     "metadata": {},
     "output_type": "execute_result"
    },
    {
     "data": {
      "image/png": "[encoded data removed]",
      "text/plain": [
       "<Figure size 432x288 with 1 Axes>"
      ]
     },
     "metadata": {
      "needs_background": "light"
     },
     "output_type": "display_data"
    }
   ],
   "source": [
    "c = img_processing( train_img[check][0] )\n",
    "plt.imshow( c , cmap='gray')"
   ]
  },
  {
   "cell_type": "code",
   "execution_count": 128,
   "metadata": {
    "ExecuteTime": {
     "end_time": "2021-12-27T11:06:33.476069Z",
     "start_time": "2021-12-27T11:06:33.146069Z"
    }
   },
   "outputs": [
    {
     "data": {
      "text/plain": [
       "<matplotlib.image.AxesImage at 0x1ff5fca0>"
      ]
     },
     "execution_count": 128,
     "metadata": {},
     "output_type": "execute_result"
    },
    {
     "data": {
      "image/png": "[encoded data removed]",
      "text/plain": [
       "<Figure size 432x288 with 1 Axes>"
      ]
     },
     "metadata": {
      "needs_background": "light"
     },
     "output_type": "display_data"
    }
   ],
   "source": [
    "c_mean = c.mean(axis=0)\n",
    "c -= c_mean\n",
    "plt.imshow( c , cmap='gray')"
   ]
  },
  {
   "cell_type": "code",
   "execution_count": 129,
   "metadata": {
    "ExecuteTime": {
     "end_time": "2021-12-27T11:06:39.077077Z",
     "start_time": "2021-12-27T11:06:39.057077Z"
    }
   },
   "outputs": [],
   "source": [
    "cov = np.dot(c.T, c) / c.shape[0]"
   ]
  },
  {
   "cell_type": "code",
   "execution_count": 130,
   "metadata": {
    "ExecuteTime": {
     "end_time": "2021-12-27T11:06:39.917078Z",
     "start_time": "2021-12-27T11:06:39.897078Z"
    }
   },
   "outputs": [
    {
     "data": {
      "text/plain": [
       "((56, 56), (56,), (56, 56))"
      ]
     },
     "execution_count": 130,
     "metadata": {},
     "output_type": "execute_result"
    }
   ],
   "source": [
    "U, S, V = np.linalg.svd(cov)\n",
    "# U - поворот (новый базис) \n",
    "# S - растяжение\n",
    "# V -  поворот (новый базис) собственные вектора\n",
    "\n",
    "# для симметричной матрицы повороты равны между собой : U.T = V\n",
    "U.shape, S.shape, V.shape"
   ]
  },
  {
   "cell_type": "code",
   "execution_count": 131,
   "metadata": {
    "ExecuteTime": {
     "end_time": "2021-12-27T11:06:43.117083Z",
     "start_time": "2021-12-27T11:06:42.827083Z"
    }
   },
   "outputs": [
    {
     "data": {
      "text/plain": [
       "<matplotlib.image.AxesImage at 0x1fff9850>"
      ]
     },
     "execution_count": 131,
     "metadata": {},
     "output_type": "execute_result"
    },
    {
     "data": {
      "image/png": "[encoded data removed]",
      "text/plain": [
       "<Figure size 432x288 with 1 Axes>"
      ]
     },
     "metadata": {
      "needs_background": "light"
     },
     "output_type": "display_data"
    }
   ],
   "source": [
    "с_reduced = np.dot(c, U[:, :16])\n",
    "plt.imshow( с_reduced , cmap='gray')"
   ]
  },
  {
   "cell_type": "markdown",
   "metadata": {},
   "source": [
    "Четко вырисовываются границы цифры 7. А вот на методе sklearn PCA такого нет(смотри ниже).\n",
    "\n",
    "Это связано с тем, что исходная картинка имеет размерность 28х56 и sklearn поворачивает картинку в сторону мЕньшей размерности и отом проводит SVD преобразования. \n",
    "\n",
    "__Вывод:__\n",
    "\n",
    "Если мы буде придерживаться тактики sklearn PCA - то никакого смысла не будет, потому что картинка становится не читаемая. \n",
    "\n",
    "Если же использовать numpy и здравый смысл, то получаемая картика вполне пригдна для идентификации что там за цифра - нам же это главное."
   ]
  },
  {
   "cell_type": "code",
   "execution_count": 132,
   "metadata": {
    "ExecuteTime": {
     "end_time": "2021-12-27T11:07:18.194132Z",
     "start_time": "2021-12-27T11:07:18.184132Z"
    }
   },
   "outputs": [],
   "source": [
    "from sklearn.decomposition import PCA"
   ]
  },
  {
   "cell_type": "code",
   "execution_count": 133,
   "metadata": {
    "ExecuteTime": {
     "end_time": "2021-12-27T11:07:24.934142Z",
     "start_time": "2021-12-27T11:07:24.664142Z"
    }
   },
   "outputs": [
    {
     "data": {
      "text/plain": [
       "<matplotlib.image.AxesImage at 0x20048b50>"
      ]
     },
     "execution_count": 133,
     "metadata": {},
     "output_type": "execute_result"
    },
    {
     "data": {
      "image/png": "[encoded data removed]",
      "text/plain": [
       "<Figure size 432x288 with 1 Axes>"
      ]
     },
     "metadata": {
      "needs_background": "light"
     },
     "output_type": "display_data"
    }
   ],
   "source": [
    "pca = PCA(n_components=16)\n",
    "c_red = pca.fit_transform(c)\n",
    "plt.imshow( c_red , cmap='gray')"
   ]
  },
  {
   "cell_type": "code",
   "execution_count": 134,
   "metadata": {
    "ExecuteTime": {
     "end_time": "2021-12-27T11:07:30.295149Z",
     "start_time": "2021-12-27T11:07:30.275149Z"
    }
   },
   "outputs": [
    {
     "data": {
      "text/plain": [
       "(448,)"
      ]
     },
     "execution_count": 134,
     "metadata": {},
     "output_type": "execute_result"
    }
   ],
   "source": [
    "# Далее вытягиваем все в длинный вектор\n",
    "с_reduced_flatten = с_reduced.ravel()\n",
    "с_reduced_flatten.shape"
   ]
  },
  {
   "cell_type": "markdown",
   "metadata": {},
   "source": [
    "мы из большого пространства 28х56 превратили в 28х16, что даёт примерно __80% экономии места__( зависит от количества используемых собственных векторов). \n",
    "\n",
    "Данный пример показал, как изображение можно уменьшить в размерах. Но поставленная задача, требует найти такие различия между изображениями, чтобы логит(или другой классификатор) смог отличить дла изображения(смотри далее). "
   ]
  },
  {
   "cell_type": "markdown",
   "metadata": {},
   "source": [
    "Выполним весь пайплайн и проверим результат логита:\n",
    "\n",
    "1. препроцессинг изображения\n",
    "1. pca изображения\n",
    "1. вытягивание изображения в один вектор. \n",
    "1. для того чтобы получилась матрица всех вытянутых изображений, нужно чтобы вытянутые изображения имели одинаковый размер. Это значит нужно обозначить количество компонент. Выберем количество компонент = 16\n",
    "1. трайн тест сплит\n",
    "1. обучение логита и проверка на тесте.\n"
   ]
  },
  {
   "cell_type": "code",
   "execution_count": 167,
   "metadata": {
    "ExecuteTime": {
     "end_time": "2021-12-27T12:02:37.679827Z",
     "start_time": "2021-12-27T12:02:37.669827Z"
    },
    "scrolled": false
   },
   "outputs": [],
   "source": [
    "def make_svd_flatten(img, eigenvectors_n_comp = 16 ):\n",
    "    img = np.float32( img )\n",
    "\n",
    "    img_mean = img.mean(axis=0)\n",
    "    img -= img_mean\n",
    "\n",
    "    cov = np.dot(img.T, img) / img.shape[0]\n",
    "    \n",
    "    U, S, V = np.linalg.svd(cov)\n",
    "\n",
    "    img_reduced = np.dot(img, U[:, :eigenvectors_n_comp]) \n",
    "        \n",
    "    return img_reduced.ravel()\n"
   ]
  },
  {
   "cell_type": "code",
   "execution_count": 168,
   "metadata": {
    "ExecuteTime": {
     "end_time": "2021-12-27T12:02:41.710832Z",
     "start_time": "2021-12-27T12:02:41.700832Z"
    }
   },
   "outputs": [],
   "source": [
    "def pipe(dataset):\n",
    "    result = np.zeros_like(с_reduced_flatten , np.float32) \n",
    "    \n",
    "    for img in tqdm(dataset):\n",
    "        # img_processing\n",
    "        # svd + flatten\n",
    "        # concat\n",
    "        c = img_processing(img)\n",
    "        img_transformed = make_svd_flatten(c, eigenvectors_n_comp = 16 )\n",
    "        result = np.concatenate((result,img_transformed),axis = 0)\n",
    "    \n",
    "    return result[с_reduced_flatten.shape[0]:].reshape(dataset.shape[0],-1)"
   ]
  },
  {
   "cell_type": "code",
   "execution_count": 169,
   "metadata": {
    "ExecuteTime": {
     "end_time": "2021-12-27T12:18:07.987274Z",
     "start_time": "2021-12-27T12:02:47.841841Z"
    }
   },
   "outputs": [
    {
     "name": "stderr",
     "output_type": "stream",
     "text": [
      "100%|████████████████████████████████████| 42000/42000 [15:20<00:00, 45.65it/s]\n"
     ]
    }
   ],
   "source": [
    "X_train = pipe(train_img)"
   ]
  },
  {
   "cell_type": "code",
   "execution_count": 180,
   "metadata": {
    "ExecuteTime": {
     "end_time": "2021-12-27T12:23:01.369688Z",
     "start_time": "2021-12-27T12:23:01.129687Z"
    }
   },
   "outputs": [],
   "source": [
    "# save\n",
    "with open('./preprocessed/X_train.pickle' , 'wb') as f:\n",
    "    pickle.dump(X_train,f)\n",
    "f.close() \n",
    "\n",
    "with open('./preprocessed/train_target.pickle' , 'wb') as f:\n",
    "    pickle.dump(train_target,f)\n",
    "f.close()\n"
   ]
  },
  {
   "cell_type": "code",
   "execution_count": 179,
   "metadata": {
    "ExecuteTime": {
     "end_time": "2021-12-27T12:22:11.861618Z",
     "start_time": "2021-12-27T12:22:11.791618Z"
    }
   },
   "outputs": [],
   "source": [
    "# train_test_split\n",
    "\n",
    "X_train_small , X_val, y_train_small, y_val = train_test_split(X_train, train_target, test_size=0.3, random_state=255)"
   ]
  },
  {
   "cell_type": "code",
   "execution_count": 181,
   "metadata": {
    "ExecuteTime": {
     "end_time": "2021-12-27T12:23:50.555757Z",
     "start_time": "2021-12-27T12:23:50.545757Z"
    }
   },
   "outputs": [],
   "source": [
    "# logit\n",
    "logit = LogisticRegression(penalty='elasticnet',\n",
    "    solver='saga',\n",
    "    max_iter=200,\n",
    "    multi_class='multinomial',\n",
    "    n_jobs=-1,\n",
    "    l1_ratio=0.1)"
   ]
  },
  {
   "cell_type": "code",
   "execution_count": 182,
   "metadata": {
    "ExecuteTime": {
     "end_time": "2021-12-27T12:35:06.874712Z",
     "start_time": "2021-12-27T12:23:55.766764Z"
    }
   },
   "outputs": [
    {
     "name": "stderr",
     "output_type": "stream",
     "text": [
      "C:\\ProgramData\\Anaconda3\\lib\\site-packages\\sklearn\\linear_model\\_sag.py:352: ConvergenceWarning: The max_iter was reached which means the coef_ did not converge\n",
      "  warnings.warn(\n"
     ]
    },
    {
     "data": {
      "text/plain": [
       "0.46111111111111114"
      ]
     },
     "execution_count": 182,
     "metadata": {},
     "output_type": "execute_result"
    }
   ],
   "source": [
    "logit.fit(X_train_small, y_train_small )\n",
    "y_pred = logit.predict(X_val)\n",
    "\n",
    "logit.score(X_val,y_val)"
   ]
  },
  {
   "cell_type": "code",
   "execution_count": 183,
   "metadata": {
    "ExecuteTime": {
     "end_time": "2021-12-27T12:35:06.946714Z",
     "start_time": "2021-12-27T12:35:06.878713Z"
    },
    "scrolled": true
   },
   "outputs": [
    {
     "name": "stdout",
     "output_type": "stream",
     "text": [
      "              precision    recall  f1-score   support\n",
      "\n",
      "         0.0       0.43      0.45      0.44      1247\n",
      "         1.0       0.50      0.59      0.54      1372\n",
      "         2.0       0.52      0.51      0.52      1291\n",
      "         3.0       0.46      0.54      0.50      1287\n",
      "         4.0       0.45      0.51      0.48      1210\n",
      "         5.0       0.28      0.18      0.22      1150\n",
      "         6.0       0.57      0.58      0.58      1245\n",
      "         7.0       0.56      0.55      0.55      1363\n",
      "         8.0       0.32      0.25      0.28      1187\n",
      "         9.0       0.40      0.40      0.40      1248\n",
      "\n",
      "    accuracy                           0.46     12600\n",
      "   macro avg       0.45      0.46      0.45     12600\n",
      "weighted avg       0.45      0.46      0.45     12600\n",
      "\n"
     ]
    }
   ],
   "source": [
    "print(classification_report(y_val, y_pred))"
   ]
  },
  {
   "cell_type": "markdown",
   "metadata": {
    "ExecuteTime": {
     "end_time": "2021-12-27T12:47:58.292962Z",
     "start_time": "2021-12-27T12:47:58.282962Z"
    }
   },
   "source": [
    "Результат не удовлетворительный = 45%. Будем действовать по-другому.."
   ]
  },
  {
   "cell_type": "markdown",
   "metadata": {},
   "source": [
    "## Для классификтора нужны отличия. \n",
    "\n",
    "Для логита нужно, найти такие отличия для картинок( матриц или вытянутых векторов), чтобы можно было однознчно сказать, что тут изображено \"7\" а не \"2\". \n",
    "\n",
    "Нужно собрать все изображения вместе, отбросить общее и оставить только отличия.\n",
    "\n",
    "Сначала потренируемся на датасете из 5000 экземпляров, а потом выполним пайплайн для всего датасета\n"
   ]
  },
  {
   "cell_type": "code",
   "execution_count": 135,
   "metadata": {
    "ExecuteTime": {
     "end_time": "2021-12-27T11:11:28.716485Z",
     "start_time": "2021-12-27T11:11:27.176483Z"
    }
   },
   "outputs": [],
   "source": [
    "# 5000 экземпляров\n",
    "choice = np.random.choice(train_img.shape[0], 5000)\n",
    "c = [img_processing( i ) for i in train_img[choice]]"
   ]
  },
  {
   "cell_type": "code",
   "execution_count": 136,
   "metadata": {
    "ExecuteTime": {
     "end_time": "2021-12-27T11:11:33.737492Z",
     "start_time": "2021-12-27T11:11:33.677492Z"
    }
   },
   "outputs": [
    {
     "data": {
      "text/plain": [
       "(5000, 28, 56)"
      ]
     },
     "execution_count": 136,
     "metadata": {},
     "output_type": "execute_result"
    }
   ],
   "source": [
    "c = np.array(c,dtype=np.float32)\n",
    "c.shape"
   ]
  },
  {
   "cell_type": "code",
   "execution_count": 141,
   "metadata": {
    "ExecuteTime": {
     "end_time": "2021-12-27T11:12:44.086601Z",
     "start_time": "2021-12-27T11:12:44.076601Z"
    }
   },
   "outputs": [
    {
     "data": {
      "text/plain": [
       "(1568, 1568)"
      ]
     },
     "execution_count": 141,
     "metadata": {},
     "output_type": "execute_result"
    }
   ],
   "source": [
    "# вытянем нормируем и построим матрицу ковариаций\n",
    "c_flatten = c.reshape((c.shape[0],-1)).astype(np.float32)\n",
    "\n",
    "c_flatten_mean = c_flatten.mean(axis = 0 )\n",
    "c_flatten -= c_flatten_mean\n",
    "\n",
    "cov = np.dot(c_flatten.T, c_flatten) / c_flatten.shape[0]\n",
    "cov.shape"
   ]
  },
  {
   "cell_type": "code",
   "execution_count": 79,
   "metadata": {
    "ExecuteTime": {
     "end_time": "2021-12-28T07:50:53.616283Z",
     "start_time": "2021-12-28T07:50:49.972276Z"
    }
   },
   "outputs": [
    {
     "name": "stdout",
     "output_type": "stream",
     "text": [
      "Необходимо 161 компонент, для сохранения 70% дисперсии\n"
     ]
    },
    {
     "data": {
      "image/png": "[encoded data removed]",
      "text/plain": [
       "<Figure size 432x288 with 1 Axes>"
      ]
     },
     "metadata": {
      "needs_background": "light"
     },
     "output_type": "display_data"
    }
   ],
   "source": [
    "# SVD\n",
    "U, S, V = np.linalg.svd(cov)\n",
    "\n",
    "\n",
    "S_cumsum = np.cumsum(S) / np.sum(S)\n",
    "eigenvectors_thershold = .7\n",
    "\n",
    "n_comp = np.argmax(np.where(S_cumsum > eigenvectors_thershold, 1, 0)) \n",
    "\n",
    "plt.plot(S_cumsum[:n_comp*2], '+-')\n",
    "plt.grid()\n",
    "plt.plot([0,n_comp*2],[eigenvectors_thershold]*2,'r--');\n",
    "plt.plot( [n_comp]*2, [0,1], 'g--')\n",
    "plt.xlabel('количество основных компонент')\n",
    "plt.ylabel('накопленная разность дисперсий, \\nпо сравнению с исходной матрицей');\n",
    "print(f'Необходимо {n_comp} компонент, для сохранения 70% дисперсии')"
   ]
  },
  {
   "cell_type": "markdown",
   "metadata": {},
   "source": [
    "Выходит, что нужно использовать 161 основных компонент для сохранения 70% дисперсии исходного изображения.\n",
    "\n",
    "Для логита нужно, найти такие отличия для картинок( матриц или вытянутых векторов), чтобы можно было однознчно сказать, что тут изображено \"7\" а не \"2\". Как это сделать? \n",
    "\n",
    "Нужно собрать все изображения вместе, отбросить общее и оставить только отличия. \n",
    "\n",
    "Отличия - это проекция исходной матрицы картинок на базис из собственных векторов, вот они:"
   ]
  },
  {
   "cell_type": "code",
   "execution_count": 156,
   "metadata": {
    "ExecuteTime": {
     "end_time": "2021-12-27T11:19:31.798185Z",
     "start_time": "2021-12-27T11:19:31.577183Z"
    }
   },
   "outputs": [
    {
     "data": {
      "text/plain": [
       "(5000, 360)"
      ]
     },
     "execution_count": 156,
     "metadata": {},
     "output_type": "execute_result"
    }
   ],
   "source": [
    "с_reduced = np.dot(c_flatten, U[:, :360])\n",
    "с_reduced.shape"
   ]
  },
  {
   "cell_type": "markdown",
   "metadata": {},
   "source": [
    "Но как оказалось позже - проекция исходной матрицы на базис собственных векторов, очень плохо предсказывает для тестовой выборки.\n",
    " \n",
    "Поэтому придется восстанавливать проекцию на обратную поворотную матрицу и скармливаем Support Vector Classificator  \n"
   ]
  },
  {
   "cell_type": "markdown",
   "metadata": {},
   "source": [
    "## трансформируем датасет и обучем логит\n",
    "\n",
    "Сделаем пайплайн для всего процесса:\n",
    "\n",
    "- img preprocessing\n",
    "- flatten + covariation matrix\n",
    "- SVD + n_comp \n",
    "- train_test_split\n",
    "- SVC"
   ]
  },
  {
   "cell_type": "code",
   "execution_count": 184,
   "metadata": {
    "ExecuteTime": {
     "end_time": "2021-12-27T12:35:45.364769Z",
     "start_time": "2021-12-27T12:35:31.409748Z"
    }
   },
   "outputs": [
    {
     "name": "stderr",
     "output_type": "stream",
     "text": [
      "100%|██████████████████████████████████| 42000/42000 [00:12<00:00, 3297.99it/s]\n"
     ]
    },
    {
     "data": {
      "text/plain": [
       "(42000, 28, 56)"
      ]
     },
     "execution_count": 184,
     "metadata": {},
     "output_type": "execute_result"
    }
   ],
   "source": [
    "X_train_img_preprocessed = np.array([img_processing( i ) for i in tqdm(train_img) ], dtype=np.float32)\n",
    "\n",
    "with open('./preprocessed/X_train_img_preprocessed.pickle' , 'wb') as f:\n",
    "    pickle.dump(X_train_img_preprocessed,f)\n",
    "f.close() \n",
    "\n",
    "X_train_img_preprocessed.shape"
   ]
  },
  {
   "cell_type": "code",
   "execution_count": 55,
   "metadata": {
    "ExecuteTime": {
     "end_time": "2021-12-28T06:53:19.614718Z",
     "start_time": "2021-12-28T06:53:19.373704Z"
    }
   },
   "outputs": [],
   "source": [
    "with open('./preprocessed/X_train_img_preprocessed.pickle' , 'rb') as f:\n",
    "    X_train_img_preprocessed = pickle.load(f)\n",
    "f.close()\n",
    "\n",
    "with open('./preprocessed/train_target.pickle' , 'rb') as f:\n",
    "    train_target = pickle.load(f)\n",
    "f.close()"
   ]
  },
  {
   "cell_type": "code",
   "execution_count": 56,
   "metadata": {
    "ExecuteTime": {
     "end_time": "2021-12-28T06:53:26.937505Z",
     "start_time": "2021-12-28T06:53:24.302368Z"
    }
   },
   "outputs": [
    {
     "data": {
      "text/plain": [
       "(1568, 1568)"
      ]
     },
     "execution_count": 56,
     "metadata": {},
     "output_type": "execute_result"
    }
   ],
   "source": [
    "# вытянем нормируем и построим матрицу ковариаций\n",
    "X_flatten = X_train_img_preprocessed.reshape( (X_train_img_preprocessed.shape[0],-1) ).astype(np.float32)\n",
    "\n",
    "X_flatten_mean = X_flatten.mean(axis = 0 )\n",
    "X_flatten -= X_flatten_mean\n",
    "\n",
    "cov = np.dot(X_flatten.T, X_flatten) / X_flatten.shape[0]\n",
    "cov.shape"
   ]
  },
  {
   "cell_type": "code",
   "execution_count": 57,
   "metadata": {
    "ExecuteTime": {
     "end_time": "2021-12-28T06:53:34.109617Z",
     "start_time": "2021-12-28T06:53:30.245056Z"
    }
   },
   "outputs": [
    {
     "name": "stdout",
     "output_type": "stream",
     "text": [
      "Необходимо 385 компонент, для сохранения 90% дисперсии\n"
     ]
    },
    {
     "data": {
      "image/png": "[encoded data removed]",
      "text/plain": [
       "<Figure size 432x288 with 1 Axes>"
      ]
     },
     "metadata": {
      "needs_background": "light"
     },
     "output_type": "display_data"
    }
   ],
   "source": [
    "# SVD\n",
    "U, S, V = np.linalg.svd(cov)\n",
    "\n",
    "\n",
    "S_cumsum = np.cumsum(S) / np.sum(S)\n",
    "eigenvectors_thershold = .9\n",
    "\n",
    "n_comp = np.argmax(np.where(S_cumsum > eigenvectors_thershold, 1, 0)) \n",
    "\n",
    "plt.plot(S_cumsum[:n_comp*2], '+-')\n",
    "plt.grid()\n",
    "plt.plot([0,n_comp*2],[eigenvectors_thershold]*2,'r--');\n",
    "plt.plot( [n_comp]*2, [0,1], 'g--')\n",
    "plt.xlabel('количество основных компонент')\n",
    "plt.ylabel('накопленная разность дисперсий, \\nпо сравнению с исходной матрицей');\n",
    "print(f'Необходимо {n_comp} компонент, для сохранения 90% дисперсии')"
   ]
  },
  {
   "cell_type": "markdown",
   "metadata": {},
   "source": [
    "Необходимо 385 компонент. Но для робастности модели на тестовых данных возьем сохранение 70% дисперсии = 150 компонент. Сохраняем их:"
   ]
  },
  {
   "cell_type": "code",
   "execution_count": 58,
   "metadata": {
    "ExecuteTime": {
     "end_time": "2021-12-28T06:53:37.496686Z",
     "start_time": "2021-12-28T06:53:36.934660Z"
    }
   },
   "outputs": [
    {
     "data": {
      "text/plain": [
       "(42000, 150)"
      ]
     },
     "execution_count": 58,
     "metadata": {},
     "output_type": "execute_result"
    }
   ],
   "source": [
    "X_reduced = np.dot(X_flatten, U[:, :150])\n",
    "X_reduced.shape"
   ]
  },
  {
   "cell_type": "markdown",
   "metadata": {},
   "source": [
    "Восстанавливаем обратной поворотной матрицей: "
   ]
  },
  {
   "cell_type": "code",
   "execution_count": 80,
   "metadata": {
    "ExecuteTime": {
     "end_time": "2021-12-28T08:00:46.267407Z",
     "start_time": "2021-12-28T08:00:45.245373Z"
    }
   },
   "outputs": [],
   "source": [
    "X_restored = np.dot(X_reduced, U[:,:150].T)"
   ]
  },
  {
   "cell_type": "markdown",
   "metadata": {},
   "source": [
    "Разбиваем:"
   ]
  },
  {
   "cell_type": "code",
   "execution_count": 60,
   "metadata": {
    "ExecuteTime": {
     "end_time": "2021-12-28T06:53:56.925502Z",
     "start_time": "2021-12-28T06:53:56.697998Z"
    }
   },
   "outputs": [],
   "source": [
    "X_train_small, X_val, y_train_small, y_val = train_test_split(\n",
    "    X_restored, train_target, test_size=0.3, random_state=255)"
   ]
  },
  {
   "cell_type": "code",
   "execution_count": 35,
   "metadata": {
    "ExecuteTime": {
     "end_time": "2021-12-28T06:38:39.334526Z",
     "start_time": "2021-12-28T06:38:39.326526Z"
    }
   },
   "outputs": [],
   "source": [
    "from sklearn.svm import SVC"
   ]
  },
  {
   "cell_type": "code",
   "execution_count": 61,
   "metadata": {
    "ExecuteTime": {
     "end_time": "2021-12-28T07:05:22.796853Z",
     "start_time": "2021-12-28T06:54:05.208129Z"
    }
   },
   "outputs": [
    {
     "name": "stdout",
     "output_type": "stream",
     "text": [
      "SVM_score =  0.9562698412698413\n"
     ]
    }
   ],
   "source": [
    "clf = SVC(kernel='rbf', decision_function_shape = 'ovo')\n",
    "clf.fit(X_train_small, y_train_small)\n",
    "y_pred = clf.predict(X_val)\n",
    "\n",
    "print('SVM_score = ',clf.score(X_val,y_val) )"
   ]
  },
  {
   "cell_type": "code",
   "execution_count": 62,
   "metadata": {
    "ExecuteTime": {
     "end_time": "2021-12-28T07:05:22.866853Z",
     "start_time": "2021-12-28T07:05:22.796853Z"
    }
   },
   "outputs": [
    {
     "name": "stdout",
     "output_type": "stream",
     "text": [
      "              precision    recall  f1-score   support\n",
      "\n",
      "         0.0       0.97      0.99      0.98      1247\n",
      "         1.0       0.97      0.98      0.98      1372\n",
      "         2.0       0.96      0.95      0.95      1291\n",
      "         3.0       0.95      0.94      0.94      1287\n",
      "         4.0       0.94      0.97      0.96      1210\n",
      "         5.0       0.93      0.94      0.94      1150\n",
      "         6.0       0.97      0.97      0.97      1245\n",
      "         7.0       0.96      0.94      0.95      1363\n",
      "         8.0       0.96      0.94      0.95      1187\n",
      "         9.0       0.95      0.93      0.94      1248\n",
      "\n",
      "    accuracy                           0.96     12600\n",
      "   macro avg       0.96      0.96      0.96     12600\n",
      "weighted avg       0.96      0.96      0.96     12600\n",
      "\n"
     ]
    }
   ],
   "source": [
    "print( classification_report(y_val, y_pred) )"
   ]
  },
  {
   "cell_type": "markdown",
   "metadata": {},
   "source": [
    "## Визуализируем предсказания"
   ]
  },
  {
   "cell_type": "code",
   "execution_count": 63,
   "metadata": {
    "ExecuteTime": {
     "end_time": "2021-12-28T07:05:24.926857Z",
     "start_time": "2021-12-28T07:05:22.866853Z"
    },
    "scrolled": false
   },
   "outputs": [
    {
     "data": {
      "image/png": "[encoded data removed]",
      "text/plain": [
       "<Figure size 1440x720 with 10 Axes>"
      ]
     },
     "metadata": {
      "needs_background": "light"
     },
     "output_type": "display_data"
    }
   ],
   "source": [
    "fig = plt.figure(figsize=(20, 10))\n",
    "\n",
    "for i, img in enumerate(X_val[0:10], 0):\n",
    "    \n",
    "    ax = fig.add_subplot(2, 5, i+1)\n",
    "    \n",
    "    plt.imshow(img.reshape(28,-1), cmap='gray');\n",
    "    plt.title('Original %d, Predicted %d,\\nWhat saw computer' % (y_val[i], y_pred[i]) );\n",
    " "
   ]
  },
  {
   "cell_type": "markdown",
   "metadata": {},
   "source": [
    "## трансформируем датасет для тест"
   ]
  },
  {
   "cell_type": "code",
   "execution_count": 201,
   "metadata": {
    "ExecuteTime": {
     "end_time": "2021-12-27T13:39:30.505436Z",
     "start_time": "2021-12-27T13:39:21.813424Z"
    }
   },
   "outputs": [
    {
     "name": "stderr",
     "output_type": "stream",
     "text": [
      "100%|██████████████████████████████████| 28000/28000 [00:07<00:00, 3534.46it/s]\n"
     ]
    },
    {
     "data": {
      "text/plain": [
       "(28000, 28, 56)"
      ]
     },
     "execution_count": 201,
     "metadata": {},
     "output_type": "execute_result"
    }
   ],
   "source": [
    "X_test_img_preprocessed = np.array([ img_processing( i ) for i in tqdm( test_img) ], dtype=np.float32)\n",
    "\n",
    "with open('./preprocessed/X_test_img_preprocessed.pickle' , 'wb') as f:\n",
    "    pickle.dump(X_test_img_preprocessed,f)\n",
    "f.close() \n",
    "\n",
    "X_test_img_preprocessed.shape"
   ]
  },
  {
   "cell_type": "code",
   "execution_count": 64,
   "metadata": {
    "ExecuteTime": {
     "end_time": "2021-12-28T07:05:58.705905Z",
     "start_time": "2021-12-28T07:05:58.545905Z"
    }
   },
   "outputs": [],
   "source": [
    "with open('./preprocessed/X_test_img_preprocessed.pickle' , 'rb') as f:\n",
    "    X_test_img_preprocessed = pickle.load(f)\n",
    "f.close()"
   ]
  },
  {
   "cell_type": "code",
   "execution_count": 82,
   "metadata": {
    "ExecuteTime": {
     "end_time": "2021-12-28T08:18:58.521894Z",
     "start_time": "2021-12-28T08:18:56.709807Z"
    }
   },
   "outputs": [
    {
     "data": {
      "text/plain": [
       "(1568, 1568)"
      ]
     },
     "execution_count": 82,
     "metadata": {},
     "output_type": "execute_result"
    }
   ],
   "source": [
    "# вытянем нормируем и построим матрицу ковариаций\n",
    "X_flatten_test = X_test_img_preprocessed.reshape( (X_test_img_preprocessed.shape[0],-1) ).astype(np.float32)\n",
    "\n",
    "X_flatten_test_mean = X_flatten_test.mean(axis = 0 )\n",
    "X_flatten_test -= X_flatten_test_mean\n",
    "\n",
    "cov_test = np.dot( X_flatten_test.T, X_flatten_test) / X_flatten_test.shape[0]\n",
    "cov_test.shape"
   ]
  },
  {
   "cell_type": "code",
   "execution_count": 83,
   "metadata": {
    "ExecuteTime": {
     "end_time": "2021-12-28T08:19:02.577906Z",
     "start_time": "2021-12-28T08:18:59.221895Z"
    }
   },
   "outputs": [],
   "source": [
    "# SVD\n",
    "U_test, S_test, V_test = np.linalg.svd(cov_test)"
   ]
  },
  {
   "cell_type": "markdown",
   "metadata": {},
   "source": [
    "Так как для обучения SVM мы использовали 150 компонент, то и для предикта нужно стролько же параметров (иначе будет ошибка). Применяем:"
   ]
  },
  {
   "cell_type": "code",
   "execution_count": 84,
   "metadata": {
    "ExecuteTime": {
     "end_time": "2021-12-28T08:19:03.042929Z",
     "start_time": "2021-12-28T08:19:02.577906Z"
    }
   },
   "outputs": [
    {
     "data": {
      "text/plain": [
       "(28000, 150)"
      ]
     },
     "execution_count": 84,
     "metadata": {},
     "output_type": "execute_result"
    }
   ],
   "source": [
    "X_reduced_test = np.dot(X_flatten_test, U_test[:, :150])\n",
    "X_reduced_test.shape"
   ]
  },
  {
   "cell_type": "markdown",
   "metadata": {},
   "source": [
    "Восстанавливаем обратной поворотной матрицей:"
   ]
  },
  {
   "cell_type": "code",
   "execution_count": 90,
   "metadata": {
    "ExecuteTime": {
     "end_time": "2021-12-28T08:20:21.038060Z",
     "start_time": "2021-12-28T08:20:20.526048Z"
    }
   },
   "outputs": [
    {
     "data": {
      "text/plain": [
       "(28000, 1568)"
      ]
     },
     "execution_count": 90,
     "metadata": {},
     "output_type": "execute_result"
    }
   ],
   "source": [
    "X_restored_test = np.dot(X_reduced_test, U_test[:,:150].T)\n",
    "X_restored_test.shape"
   ]
  },
  {
   "cell_type": "code",
   "execution_count": 69,
   "metadata": {
    "ExecuteTime": {
     "end_time": "2021-12-28T07:15:04.901737Z",
     "start_time": "2021-12-28T07:07:04.139881Z"
    }
   },
   "outputs": [],
   "source": [
    "y_pred_test = clf.predict(X_restored_test)\n",
    "y_pred_test_int = y_pred_test.astype(int)"
   ]
  },
  {
   "cell_type": "markdown",
   "metadata": {},
   "source": [
    "## Готовим файл для отправки"
   ]
  },
  {
   "cell_type": "code",
   "execution_count": 76,
   "metadata": {
    "ExecuteTime": {
     "end_time": "2021-12-28T07:17:52.751978Z",
     "start_time": "2021-12-28T07:17:52.641978Z"
    }
   },
   "outputs": [],
   "source": [
    "with open('submit_3.txt', 'w') as dst:\n",
    "    dst.write('ImageId,Label\\n')\n",
    "    for i, p in enumerate(y_pred_test_int, 1):\n",
    "        dst.write('%s,%s\\n' % (i, p))"
   ]
  },
  {
   "cell_type": "code",
   "execution_count": null,
   "metadata": {},
   "outputs": [],
   "source": []
  },
  {
   "cell_type": "code",
   "execution_count": null,
   "metadata": {},
   "outputs": [],
   "source": []
  },
  {
   "cell_type": "markdown",
   "metadata": {},
   "source": [
    "## Визуализируем предсказания тестовой выборки:"
   ]
  },
  {
   "cell_type": "code",
   "execution_count": 74,
   "metadata": {
    "ExecuteTime": {
     "end_time": "2021-12-28T07:16:34.467866Z",
     "start_time": "2021-12-28T07:16:32.562862Z"
    },
    "scrolled": false
   },
   "outputs": [
    {
     "data": {
      "image/png": "[encoded data removed]",
      "text/plain": [
       "<Figure size 1440x720 with 10 Axes>"
      ]
     },
     "metadata": {
      "needs_background": "light"
     },
     "output_type": "display_data"
    }
   ],
   "source": [
    "fig = plt.figure(figsize=(20, 10))\n",
    "\n",
    "for i, img in enumerate(X_restored_test[0:10], 0):\n",
    "    \n",
    "    ax = fig.add_subplot(2, 5, i+1)\n",
    "    \n",
    "    plt.imshow(img.reshape(28,-1), cmap='gray');\n",
    "    plt.title(' Predicted %d,\\nWhat saw computer' % ( y_pred_test[i]) );\n",
    " "
   ]
  },
  {
   "cell_type": "markdown",
   "metadata": {},
   "source": [
    "Для изображений c 30 по 40:"
   ]
  },
  {
   "cell_type": "code",
   "execution_count": 91,
   "metadata": {
    "ExecuteTime": {
     "end_time": "2021-12-28T08:20:26.140068Z",
     "start_time": "2021-12-28T08:20:23.959065Z"
    }
   },
   "outputs": [
    {
     "data": {
      "image/png": "[encoded data removed]",
      "text/plain": [
       "<Figure size 1440x720 with 10 Axes>"
      ]
     },
     "metadata": {
      "needs_background": "light"
     },
     "output_type": "display_data"
    }
   ],
   "source": [
    "fig = plt.figure(figsize=(20, 10))\n",
    "\n",
    "for i, img in enumerate(X_restored_test[30:40], 0):\n",
    "    \n",
    "    ax = fig.add_subplot(2, 5, i+1)\n",
    "    \n",
    "    plt.imshow(img.reshape(28,-1), cmap='gray');\n",
    "    plt.title('Predicted %d,\\n What saw computer' % (y_pred_test[30+ i]) );\n",
    " "
   ]
  },
  {
   "cell_type": "markdown",
   "metadata": {
    "ExecuteTime": {
     "end_time": "2021-12-28T07:15:09.905745Z",
     "start_time": "2021-12-28T07:15:09.075744Z"
    }
   },
   "source": [
    "__Что было сделано:__\n",
    "1. img_processing:\n",
    "    - правое изображение:\n",
    "        - sobel\n",
    "        - non_max_suppress\n",
    "        - sharpen\n",
    "    - левое изображение:\n",
    "        - non_max_suppress\n",
    "        - sharpen\n",
    "    - concat изображений\n",
    "1. flatten \n",
    "1. covariation matrix\n",
    "1. SVD -> проекция на 150 первых собственных векторов и обратная поворотная матрица 150 первых собственных векторов \n",
    "1. train_test_split\n",
    "1. SVC\n",
    "\n",
    "__Результат:__\n",
    "- на validation __96%__\n",
    "- на test kaggle __95.3%__\n",
    "\n",
    "__Что еще можно было сделать:__\n",
    "- выполнить аугментацию:\n",
    "    - поворот sklearn.transform.rotate()\n",
    "    - сдвиг sklearn.transform.AffineTransform() -> sklearn.transform.warp()\n",
    "- добавить маску (например круг - края не использутся для детекции)"
   ]
  }
 ],
 "metadata": {
  "kernelspec": {
   "display_name": "Python 3 (ipykernel)",
   "language": "python",
   "name": "python3"
  },
  "language_info": {
   "codemirror_mode": {
    "name": "ipython",
    "version": 3
   },
   "file_extension": ".py",
   "mimetype": "text/x-python",
   "name": "python",
   "nbconvert_exporter": "python",
   "pygments_lexer": "ipython3",
   "version": "3.8.5"
  },
  "toc": {
   "base_numbering": 1,
   "nav_menu": {},
   "number_sections": true,
   "sideBar": true,
   "skip_h1_title": false,
   "title_cell": "Table of Contents",
   "title_sidebar": "Contents",
   "toc_cell": false,
   "toc_position": {},
   "toc_section_display": true,
   "toc_window_display": false
  }
 },
 "nbformat": 4,
 "nbformat_minor": 4
}
